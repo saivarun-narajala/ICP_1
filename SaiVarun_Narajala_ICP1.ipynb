{
  "nbformat": 4,
  "nbformat_minor": 0,
  "metadata": {
    "colab": {
      "provenance": []
    },
    "kernelspec": {
      "name": "python3",
      "display_name": "Python 3"
    },
    "language_info": {
      "name": "python"
    }
  },
  "cells": [
    {
      "cell_type": "code",
      "source": [
        "#Sai Varun Narajala #700758974"
      ],
      "metadata": {
        "id": "pJbvs57YLg2e"
      },
      "execution_count": null,
      "outputs": []
    },
    {
      "cell_type": "code",
      "execution_count": 3,
      "metadata": {
        "colab": {
          "base_uri": "https://localhost:8080/"
        },
        "id": "zRz_338kK5U3",
        "outputId": "52280a5f-9caf-4678-ec18-75497dc00b88"
      },
      "outputs": [
        {
          "output_type": "stream",
          "name": "stdout",
          "text": [
            "Enter the stringpython\n",
            "Initially : ['p', 'y', 't', 'h', 'o', 'n']\n",
            "After removing t and h : ['p', 'y', 'o', 'n']\n",
            "Result : pyon\n"
          ]
        }
      ],
      "source": [
        "#task 1\n",
        "str=list(input(\"Enter the string\"))\n",
        "print(\"Initially :\",str)\n",
        "str.remove('t')\n",
        "str.remove('h')\n",
        "print(\"After removing t and h :\",str)\n",
        "result = ''.join(str)\n",
        "print(\"Result :\",result)"
      ]
    },
    {
      "cell_type": "code",
      "source": [
        "a=float(input(\"1st Number\"))\n",
        "b=float(input(\"2nd Number\"))\n",
        "print(\"Addition:\", a+b)\n",
        "print(\"Subtraction:\", a-b)\n",
        "print(\"Multiplication:\",a*b)\n",
        "print(\"Division:\", a/b)"
      ],
      "metadata": {
        "colab": {
          "base_uri": "https://localhost:8080/"
        },
        "id": "5-pFEvDqK-Yg",
        "outputId": "26e99a89-231e-4669-8a19-8b4e374d9bf5"
      },
      "execution_count": 4,
      "outputs": [
        {
          "output_type": "stream",
          "name": "stdout",
          "text": [
            "1st Number20\n",
            "2nd Number30\n",
            "Addition: 50.0\n",
            "Subtraction: -10.0\n",
            "Multiplication: 600.0\n",
            "Division: 0.6666666666666666\n"
          ]
        }
      ]
    },
    {
      "cell_type": "code",
      "source": [
        "# Task 2\n",
        "str1 = input(\"Input a  sentence: \")\n",
        "modified_sentence= str1.replace('python', 'pythons')\n",
        "print(\"Modified sentence:\", modified_sentence)"
      ],
      "metadata": {
        "colab": {
          "base_uri": "https://localhost:8080/"
        },
        "id": "2wLHef2vLBPi",
        "outputId": "e6f8d28e-00bc-4f09-f55a-03a6a5af2b1b"
      },
      "execution_count": 5,
      "outputs": [
        {
          "output_type": "stream",
          "name": "stdout",
          "text": [
            "Input a  sentence: i love python\n",
            "Modified sentence: i love pythons\n"
          ]
        }
      ]
    },
    {
      "cell_type": "code",
      "source": [
        "#Task 3 Grading\n",
        "\n",
        "score = float(input(\"Enter the marks : \"))\n",
        "if 90 <= score <= 100:\n",
        "    grade = 'A'\n",
        "elif 80 <= score < 90:\n",
        "    grade = 'B'\n",
        "elif 70 <= score < 80:\n",
        "    grade = 'C'\n",
        "elif 60 <= score < 70:\n",
        "    grade = 'D'\n",
        "elif 0 <= score < 60:\n",
        "    grade = 'F'\n",
        "else:\n",
        "    grade = 'Invalid score'\n",
        "\n",
        "print(\"Your grade is:\", grade)"
      ],
      "metadata": {
        "colab": {
          "base_uri": "https://localhost:8080/"
        },
        "id": "8l6WsZIlLEHt",
        "outputId": "06fcfcbd-13a0-4b53-e18d-5911d02dc4cb"
      },
      "execution_count": 6,
      "outputs": [
        {
          "output_type": "stream",
          "name": "stdout",
          "text": [
            "Enter the marks : 100\n",
            "Your grade is: A\n"
          ]
        }
      ]
    }
  ]
}